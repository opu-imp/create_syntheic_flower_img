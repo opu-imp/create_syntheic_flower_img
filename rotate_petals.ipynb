{
 "cells": [
  {
   "cell_type": "code",
   "execution_count": 11,
   "id": "4e413472-922f-40e4-ac94-38d2f60f70a1",
   "metadata": {},
   "outputs": [],
   "source": [
    "from glob import glob\n",
    "import cv2\n",
    "import matplotlib.pyplot as plt\n"
   ]
  },
  {
   "cell_type": "code",
   "execution_count": 12,
   "id": "03dd20eb-d68e-4d5e-86cc-20543362edfa",
   "metadata": {},
   "outputs": [],
   "source": [
    "def show(img):\n",
    "    plt.imshow(img)\n",
    "    plt.show()"
   ]
  },
  {
   "cell_type": "code",
   "execution_count": 31,
   "id": "e1b94506-f178-4b69-8478-8747404b1a55",
   "metadata": {},
   "outputs": [
    {
     "data": {
      "text/plain": [
       "67"
      ]
     },
     "execution_count": 31,
     "metadata": {},
     "output_type": "execute_result"
    }
   ],
   "source": [
    "i = 0\n",
    "paths = glob('../data/raw_petals/*/*.png')\n",
    "len(paths)"
   ]
  },
  {
   "cell_type": "code",
   "execution_count": 355,
   "id": "f9b51e13-a8df-43a4-a536-171ffb579adc",
   "metadata": {},
   "outputs": [
    {
     "ename": "IndexError",
     "evalue": "list index out of range",
     "output_type": "error",
     "traceback": [
      "\u001b[0;31m---------------------------------------------------------------------------\u001b[0m",
      "\u001b[0;31mIndexError\u001b[0m                                Traceback (most recent call last)",
      "Cell \u001b[0;32mIn[355], line 1\u001b[0m\n\u001b[0;32m----> 1\u001b[0m img \u001b[38;5;241m=\u001b[39m cv2\u001b[38;5;241m.\u001b[39mimread(\u001b[43mpaths\u001b[49m\u001b[43m[\u001b[49m\u001b[43mi\u001b[49m\u001b[43m]\u001b[49m)\n\u001b[1;32m      2\u001b[0m img \u001b[38;5;241m=\u001b[39m cv2\u001b[38;5;241m.\u001b[39mcopyMakeBorder(img, \u001b[38;5;241m200\u001b[39m, \u001b[38;5;241m200\u001b[39m, \u001b[38;5;241m200\u001b[39m, \u001b[38;5;241m200\u001b[39m, cv2\u001b[38;5;241m.\u001b[39mBORDER_CONSTANT, value\u001b[38;5;241m=\u001b[39m[\u001b[38;5;241m0\u001b[39m, \u001b[38;5;241m0\u001b[39m, \u001b[38;5;241m0\u001b[39m])\n\u001b[1;32m      3\u001b[0m rows, cols \u001b[38;5;241m=\u001b[39m img\u001b[38;5;241m.\u001b[39mshape[:\u001b[38;5;241m2\u001b[39m]\n",
      "\u001b[0;31mIndexError\u001b[0m: list index out of range"
     ]
    }
   ],
   "source": [
    "img = cv2.imread(paths[i])\n",
    "img = cv2.copyMakeBorder(img, 200, 200, 200, 200, cv2.BORDER_CONSTANT, value=[0, 0, 0])\n",
    "rows, cols = img.shape[:2]\n",
    "\n",
    "angle = 20\n",
    "M = cv2.getRotationMatrix2D((cols / 2, rows / 2), angle, 1)\n",
    "rotated_img = cv2.warpAffine(img, M, (cols, rows))\n",
    "\n",
    "show(rotated_img)"
   ]
  },
  {
   "cell_type": "code",
   "execution_count": 354,
   "id": "bb716ec4-0e6a-4a07-a4e3-9be559ece34e",
   "metadata": {},
   "outputs": [],
   "source": [
    "cv2.imwrite(paths[i].replace('raw_', ''), rotated_img)\n",
    "i += 1"
   ]
  },
  {
   "cell_type": "code",
   "execution_count": 359,
   "id": "4564d8da-3fe6-493d-a16e-8c5649c7d278",
   "metadata": {},
   "outputs": [
    {
     "data": {
      "text/plain": [
       "['../data/petals/白紫/ダウンロード (1).png',\n",
       " '../data/petals/白紫/ダウンロード (2).png',\n",
       " '../data/petals/白紫/ダウンロード (3).png',\n",
       " '../data/petals/白紫/ダウンロード (4).png',\n",
       " '../data/petals/白紫/ダウンロード (5).png',\n",
       " '../data/petals/白紫/ダウンロード (6).png',\n",
       " '../data/petals/白紫/ダウンロード (7).png',\n",
       " '../data/petals/白紫/ダウンロード (8).png',\n",
       " '../data/petals/白紫/ダウンロード.png',\n",
       " '../data/petals/紫/ダウンロード (1).png',\n",
       " '../data/petals/紫/ダウンロード (10).png',\n",
       " '../data/petals/紫/ダウンロード (11).png',\n",
       " '../data/petals/紫/ダウンロード (2).png',\n",
       " '../data/petals/紫/ダウンロード (3).png',\n",
       " '../data/petals/紫/ダウンロード (4).png',\n",
       " '../data/petals/紫/ダウンロード (5).png',\n",
       " '../data/petals/紫/ダウンロード (6).png',\n",
       " '../data/petals/紫/ダウンロード (7).png',\n",
       " '../data/petals/紫/ダウンロード (8).png',\n",
       " '../data/petals/紫/ダウンロード (9).png',\n",
       " '../data/petals/紫/ダウンロード .png',\n",
       " '../data/petals/紫/ダウンロード.png',\n",
       " '../data/petals/薄い白緑/ダウンロード (1).png',\n",
       " '../data/petals/薄い白緑/ダウンロード (10).png',\n",
       " '../data/petals/薄い白緑/ダウンロード (11).png',\n",
       " '../data/petals/薄い白緑/ダウンロード (2).png',\n",
       " '../data/petals/薄い白緑/ダウンロード (3).png',\n",
       " '../data/petals/薄い白緑/ダウンロード (4).png',\n",
       " '../data/petals/薄い白緑/ダウンロード (5).png',\n",
       " '../data/petals/薄い白緑/ダウンロード (6).png',\n",
       " '../data/petals/薄い白緑/ダウンロード (7).png',\n",
       " '../data/petals/薄い白緑/ダウンロード (8).png',\n",
       " '../data/petals/薄い白緑/ダウンロード (9).png',\n",
       " '../data/petals/薄い白緑/ダウンロード.png',\n",
       " '../data/petals/薄黄色/ダウンロード (1).png',\n",
       " '../data/petals/薄黄色/ダウンロード (14).png',\n",
       " '../data/petals/薄黄色/ダウンロード (2).png',\n",
       " '../data/petals/薄黄色/ダウンロード (3).png',\n",
       " '../data/petals/薄黄色/ダウンロード (4).png',\n",
       " '../data/petals/薄黄色/ダウンロード.png',\n",
       " '../data/petals/黄色丸/ダウンロード (1).png',\n",
       " '../data/petals/黄色丸/ダウンロード (10).png',\n",
       " '../data/petals/黄色丸/ダウンロード (11).png',\n",
       " '../data/petals/黄色丸/ダウンロード (12).png',\n",
       " '../data/petals/黄色丸/ダウンロード (13).png',\n",
       " '../data/petals/黄色丸/ダウンロード (14).png',\n",
       " '../data/petals/黄色丸/ダウンロード (15).png',\n",
       " '../data/petals/黄色丸/ダウンロード (16).png',\n",
       " '../data/petals/黄色丸/ダウンロード (17).png',\n",
       " '../data/petals/黄色丸/ダウンロード (2).png',\n",
       " '../data/petals/黄色丸/ダウンロード (4).png',\n",
       " '../data/petals/黄色丸/ダウンロード (5).png',\n",
       " '../data/petals/黄色丸/ダウンロード (6).png',\n",
       " '../data/petals/黄色丸/ダウンロード (7).png',\n",
       " '../data/petals/黄色丸/ダウンロード (8).png',\n",
       " '../data/petals/黄色丸/ダウンロード (9).png',\n",
       " '../data/petals/黄色丸/ダウンロード.png']"
      ]
     },
     "execution_count": 359,
     "metadata": {},
     "output_type": "execute_result"
    }
   ],
   "source": [
    "paths = glob('../data/petals/*/*.png')\n",
    "paths"
   ]
  },
  {
   "cell_type": "code",
   "execution_count": 381,
   "id": "fee3d98a-e5cc-44de-9b89-809b1766508b",
   "metadata": {},
   "outputs": [
    {
     "name": "stdout",
     "output_type": "stream",
     "text": [
      "36\n",
      "84\n",
      "78\n",
      "286\n",
      "136\n",
      "680\n",
      "66\n",
      "220\n"
     ]
    },
    {
     "data": {
      "text/plain": [
       "(316, 1270)"
      ]
     },
     "execution_count": 381,
     "metadata": {},
     "output_type": "execute_result"
    }
   ],
   "source": [
    "sum_2comb = 0\n",
    "sum_3comb = 0\n",
    "for feat in ['白紫', '紫', '黄色丸', '薄黄色', '薄い白緑']:\n",
    "    if feat == '薄黄色':\n",
    "        continue\n",
    "    paths = glob(f'../data/petals/{feat}/*.png')\n",
    "    sum_2comb += (len(paths) * (len(paths) - 1)) // 2\n",
    "    print((len(paths) * (len(paths) - 1)) // 2)\n",
    "\n",
    "    sum_3comb += (len(paths) * (len(paths) - 1) * (len(paths) - 2)) // 6\n",
    "    print((len(paths) * (len(paths) - 1) * (len(paths) - 2)) // 6)\n",
    "sum_2comb, sum_3comb"
   ]
  },
  {
   "cell_type": "code",
   "execution_count": 373,
   "id": "98d870ac-4f8c-4b93-93a6-5835bad81f9c",
   "metadata": {},
   "outputs": [
    {
     "name": "stdout",
     "output_type": "stream",
     "text": [
      "78\n",
      "286\n"
     ]
    }
   ],
   "source": [
    "paths = glob('../data/petals/紫/*.png')\n",
    "print((len(paths) * (len(paths) - 1)) // 2)\n",
    "print((len(paths) * (len(paths) - 1) * (len(paths) - 2)) // 6)"
   ]
  },
  {
   "cell_type": "code",
   "execution_count": 374,
   "id": "1cfb8dbd-d5fc-4adb-a17a-d4d7c936977e",
   "metadata": {},
   "outputs": [
    {
     "name": "stdout",
     "output_type": "stream",
     "text": [
      "136\n",
      "680\n"
     ]
    }
   ],
   "source": [
    "paths = glob('../data/petals/黄色丸/*.png')\n",
    "print((len(paths) * (len(paths) - 1)) // 2)\n",
    "print((len(paths) * (len(paths) - 1) * (len(paths) - 2)) // 6)"
   ]
  },
  {
   "cell_type": "code",
   "execution_count": 375,
   "id": "d13f1ecc-0033-4fda-b52a-444357bbde83",
   "metadata": {},
   "outputs": [
    {
     "name": "stdout",
     "output_type": "stream",
     "text": [
      "15\n",
      "20\n"
     ]
    }
   ],
   "source": [
    "paths = glob('../data/petals/薄黄色/*.png')\n",
    "print((len(paths) * (len(paths) - 1)) // 2)\n",
    "print((len(paths) * (len(paths) - 1) * (len(paths) - 2)) // 6)"
   ]
  },
  {
   "cell_type": "code",
   "execution_count": 376,
   "id": "7f7c32bc-afd4-49c2-a984-e972d538fed9",
   "metadata": {},
   "outputs": [
    {
     "name": "stdout",
     "output_type": "stream",
     "text": [
      "66\n",
      "220\n"
     ]
    }
   ],
   "source": [
    "paths = glob('../data/petals/薄い白緑/*.png')\n",
    "print((len(paths) * (len(paths) - 1)) // 2)\n",
    "print((len(paths) * (len(paths) - 1) * (len(paths) - 2)) // 6)"
   ]
  },
  {
   "cell_type": "code",
   "execution_count": null,
   "id": "27518972-d68e-464f-aa12-e3151c670002",
   "metadata": {},
   "outputs": [],
   "source": []
  },
  {
   "cell_type": "code",
   "execution_count": null,
   "id": "39fd934b-81d2-4934-934a-38e89d08d190",
   "metadata": {},
   "outputs": [],
   "source": []
  },
  {
   "cell_type": "code",
   "execution_count": null,
   "id": "1c92ea19-bfbf-42af-9e51-63ff7bc24b5f",
   "metadata": {},
   "outputs": [],
   "source": []
  },
  {
   "cell_type": "code",
   "execution_count": null,
   "id": "f6bfb112-9db4-4383-baa9-ffb3d53eecb2",
   "metadata": {},
   "outputs": [],
   "source": []
  },
  {
   "cell_type": "code",
   "execution_count": null,
   "id": "2eec03c0-1858-43e2-b4a7-9c75195989f0",
   "metadata": {},
   "outputs": [],
   "source": []
  },
  {
   "cell_type": "code",
   "execution_count": null,
   "id": "3f99a434-4284-46b3-a6f5-4d1840832c45",
   "metadata": {},
   "outputs": [],
   "source": []
  },
  {
   "cell_type": "code",
   "execution_count": null,
   "id": "50a95d28-5420-4c9d-b2f8-3636497391f1",
   "metadata": {},
   "outputs": [],
   "source": []
  },
  {
   "cell_type": "code",
   "execution_count": null,
   "id": "ce2c1352-a34c-4ecb-b34e-c6d089db7af9",
   "metadata": {},
   "outputs": [],
   "source": []
  }
 ],
 "metadata": {
  "kernelspec": {
   "display_name": "Python 3 (ipykernel)",
   "language": "python",
   "name": "python3"
  },
  "language_info": {
   "codemirror_mode": {
    "name": "ipython",
    "version": 3
   },
   "file_extension": ".py",
   "mimetype": "text/x-python",
   "name": "python",
   "nbconvert_exporter": "python",
   "pygments_lexer": "ipython3",
   "version": "3.10.11"
  }
 },
 "nbformat": 4,
 "nbformat_minor": 5
}
